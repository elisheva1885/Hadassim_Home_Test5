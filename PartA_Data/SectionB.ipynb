{
 "cells": [
  {
   "cell_type": "code",
   "execution_count": 16,
   "id": "81d3388e",
   "metadata": {},
   "outputs": [
    {
     "data": {
      "text/html": [
       "<div>\n",
       "<style scoped>\n",
       "    .dataframe tbody tr th:only-of-type {\n",
       "        vertical-align: middle;\n",
       "    }\n",
       "\n",
       "    .dataframe tbody tr th {\n",
       "        vertical-align: top;\n",
       "    }\n",
       "\n",
       "    .dataframe thead th {\n",
       "        text-align: right;\n",
       "    }\n",
       "</style>\n",
       "<table border=\"1\" class=\"dataframe\">\n",
       "  <thead>\n",
       "    <tr style=\"text-align: right;\">\n",
       "      <th></th>\n",
       "      <th>timestamp</th>\n",
       "      <th>value</th>\n",
       "    </tr>\n",
       "  </thead>\n",
       "  <tbody>\n",
       "    <tr>\n",
       "      <th>0</th>\n",
       "      <td>2025-06-28 12:00:52</td>\n",
       "      <td>18.5</td>\n",
       "    </tr>\n",
       "    <tr>\n",
       "      <th>1</th>\n",
       "      <td>2025-06-01 04:17:23</td>\n",
       "      <td>46.3</td>\n",
       "    </tr>\n",
       "    <tr>\n",
       "      <th>2</th>\n",
       "      <td>2025-06-10 17:02:57</td>\n",
       "      <td>76</td>\n",
       "    </tr>\n",
       "    <tr>\n",
       "      <th>3</th>\n",
       "      <td>2025-06-23 05:23:22</td>\n",
       "      <td>56.4</td>\n",
       "    </tr>\n",
       "    <tr>\n",
       "      <th>4</th>\n",
       "      <td>2025-06-05 07:20:08</td>\n",
       "      <td>67.9</td>\n",
       "    </tr>\n",
       "    <tr>\n",
       "      <th>5</th>\n",
       "      <td>2025-06-26 22:27:02</td>\n",
       "      <td>87</td>\n",
       "    </tr>\n",
       "    <tr>\n",
       "      <th>6</th>\n",
       "      <td>2025-06-06 01:15:50</td>\n",
       "      <td>12.6</td>\n",
       "    </tr>\n",
       "    <tr>\n",
       "      <th>7</th>\n",
       "      <td>2025-06-07 05:18:46</td>\n",
       "      <td>51.3</td>\n",
       "    </tr>\n",
       "    <tr>\n",
       "      <th>8</th>\n",
       "      <td>2025-06-19 04:31:51</td>\n",
       "      <td>52.9</td>\n",
       "    </tr>\n",
       "    <tr>\n",
       "      <th>9</th>\n",
       "      <td>2025-06-13 02:58:59</td>\n",
       "      <td>44.3</td>\n",
       "    </tr>\n",
       "  </tbody>\n",
       "</table>\n",
       "</div>"
      ],
      "text/plain": [
       "            timestamp value\n",
       "0 2025-06-28 12:00:52  18.5\n",
       "1 2025-06-01 04:17:23  46.3\n",
       "2 2025-06-10 17:02:57    76\n",
       "3 2025-06-23 05:23:22  56.4\n",
       "4 2025-06-05 07:20:08  67.9\n",
       "5 2025-06-26 22:27:02    87\n",
       "6 2025-06-06 01:15:50  12.6\n",
       "7 2025-06-07 05:18:46  51.3\n",
       "8 2025-06-19 04:31:51  52.9\n",
       "9 2025-06-13 02:58:59  44.3"
      ]
     },
     "execution_count": 16,
     "metadata": {},
     "output_type": "execute_result"
    }
   ],
   "source": [
    "import pandas as pd\n",
    "\n",
    "df = pd.read_excel(\"./files/time_series.xlsx\")\n",
    "df.head(10)\n",
    "\n"
   ]
  },
  {
   "cell_type": "code",
   "execution_count": 17,
   "id": "d973643e",
   "metadata": {},
   "outputs": [],
   "source": [
    "from datetime import date\n",
    "for i in range(int(df.shape[0])): \n",
    "#     print(df[\"timestamp\"][i:i+1].dtype)\n",
    "    if(df[\"timestamp\"][i:i+1].dtype!='datetime64[ns]'):\n",
    "        df[\"valid\"] = False\n",
    "        print(i)\n",
    "    else:\n",
    "        df[\"valid\"] = True\n",
    "    \n",
    "    \n"
   ]
  },
  {
   "cell_type": "code",
   "execution_count": 70,
   "id": "b412af23",
   "metadata": {},
   "outputs": [
    {
     "name": "stdout",
     "output_type": "stream",
     "text": [
      "                 timestamp value  valid\n",
      "0      2025-06-28 12:00:52  18.5   True\n",
      "1      2025-06-01 04:17:23  46.3   True\n",
      "2      2025-06-10 17:02:57    76   True\n",
      "3      2025-06-23 05:23:22  56.4   True\n",
      "4      2025-06-05 07:20:08  67.9   True\n",
      "...                    ...   ...    ...\n",
      "999995 2025-06-21 18:41:04  44.8   True\n",
      "999996 2025-06-26 21:09:47   NaN   True\n",
      "999997 2025-06-24 18:51:12   3.9   True\n",
      "999998 2025-06-10 08:36:18    77   True\n",
      "999999 2025-06-05 22:30:46  43.3   True\n",
      "\n",
      "[1000000 rows x 3 columns]\n",
      "True\n"
     ]
    },
    {
     "data": {
      "text/plain": [
       "2025-06-26 03:00:40    6\n",
       "2025-06-28 10:00:19    6\n",
       "2025-06-27 13:47:46    6\n",
       "2025-06-02 20:42:15    6\n",
       "2025-06-24 08:34:45    6\n",
       "                      ..\n",
       "2025-06-27 19:46:44    1\n",
       "2025-06-08 20:32:54    1\n",
       "2025-06-03 13:21:01    1\n",
       "2025-06-25 17:18:58    1\n",
       "2025-06-10 08:36:18    1\n",
       "Name: timestamp, Length: 829625, dtype: int64"
      ]
     },
     "execution_count": 70,
     "metadata": {},
     "output_type": "execute_result"
    }
   ],
   "source": [
    "df_datesOnFormat = df[df['valid']== True]\n",
    "print(df_datesOnFormat)\n",
    "boolean = df_datesOnFormat.duplicated(subset=['timestamp']).any()\n",
    "print(boolean)\n",
    "df_datesOnFormat[\"timestamp\"].value_counts()"
   ]
  },
  {
   "cell_type": "code",
   "execution_count": 89,
   "id": "4a145458",
   "metadata": {},
   "outputs": [
    {
     "name": "stdout",
     "output_type": "stream",
     "text": [
      "(1000000, 3)\n",
      "droped\n",
      "                 timestamp value  valid\n",
      "1      2025-06-01 04:17:23  46.3   True\n",
      "2      2025-06-10 17:02:57    76   True\n",
      "3      2025-06-23 05:23:22  56.4   True\n",
      "5      2025-06-26 22:27:02    87   True\n",
      "7      2025-06-07 05:18:46  51.3   True\n",
      "...                    ...   ...    ...\n",
      "999994 2025-06-19 09:33:44  77.1   True\n",
      "999995 2025-06-21 18:41:04  44.8   True\n",
      "999997 2025-06-24 18:51:12   3.9   True\n",
      "999998 2025-06-10 08:36:18    77   True\n",
      "999999 2025-06-05 22:30:46  43.3   True\n",
      "\n",
      "[747462 rows x 3 columns]\n"
     ]
    }
   ],
   "source": [
    "\n",
    "print(df.shape)\n",
    "if(boolean):\n",
    "    df_filtered_duplicates = df_datesOnFormat.drop_duplicates(subset=['timestamp'], keep='last')\n",
    "    print(\"droped\")\n",
    "df_filtered_duplicates[\"timestamp\"].value_counts()\n",
    "# print(df_filtered_duplicates)\n",
    "\n",
    "# df_filtered = df_filtered_duplicates[is_numeric_dtype(df_filtered_duplicates['value'])]\n",
    "\n",
    "# df_filtered = df_filtered_duplicates[df_filtered_duplicates['value'] is not isinstance(int, float)]\n",
    "\n",
    "df_filtered = df_filtered_duplicates[df_filtered_duplicates['value'].notna()]\n",
    "print(df_filtered)\n"
   ]
  },
  {
   "cell_type": "code",
   "execution_count": 90,
   "id": "ed43bbf9",
   "metadata": {
    "scrolled": true
   },
   "outputs": [
    {
     "name": "stderr",
     "output_type": "stream",
     "text": [
      "C:\\Users\\משפחת ספראי\\AppData\\Local\\Temp\\ipykernel_13868\\2795562754.py:2: SettingWithCopyWarning: \n",
      "A value is trying to be set on a copy of a slice from a DataFrame.\n",
      "Try using .loc[row_indexer,col_indexer] = value instead\n",
      "\n",
      "See the caveats in the documentation: https://pandas.pydata.org/pandas-docs/stable/user_guide/indexing.html#returning-a-view-versus-a-copy\n",
      "  df_filtered['hour'] = df_filtered['timestamp'].dt.hour\n",
      "C:\\Users\\משפחת ספראי\\AppData\\Local\\Temp\\ipykernel_13868\\2795562754.py:3: SettingWithCopyWarning: \n",
      "A value is trying to be set on a copy of a slice from a DataFrame.\n",
      "Try using .loc[row_indexer,col_indexer] = value instead\n",
      "\n",
      "See the caveats in the documentation: https://pandas.pydata.org/pandas-docs/stable/user_guide/indexing.html#returning-a-view-versus-a-copy\n",
      "  df_filtered['date'] = df_filtered['timestamp'].dt.date\n"
     ]
    },
    {
     "name": "stdout",
     "output_type": "stream",
     "text": [
      "Empty DataFrame\n",
      "Columns: []\n",
      "Index: [(2025-06-01, 0), (2025-06-01, 1), (2025-06-01, 2), (2025-06-01, 3), (2025-06-01, 4), (2025-06-01, 5), (2025-06-01, 6), (2025-06-01, 7), (2025-06-01, 8), (2025-06-01, 9), (2025-06-01, 10), (2025-06-01, 11), (2025-06-01, 12), (2025-06-01, 13), (2025-06-01, 14), (2025-06-01, 15), (2025-06-01, 16), (2025-06-01, 17), (2025-06-01, 18), (2025-06-01, 19), (2025-06-01, 20), (2025-06-01, 21), (2025-06-01, 22), (2025-06-01, 23), (2025-06-02, 0), (2025-06-02, 1), (2025-06-02, 2), (2025-06-02, 3), (2025-06-02, 4), (2025-06-02, 5), (2025-06-02, 6), (2025-06-02, 7), (2025-06-02, 8), (2025-06-02, 9), (2025-06-02, 10), (2025-06-02, 11), (2025-06-02, 12), (2025-06-02, 13), (2025-06-02, 14), (2025-06-02, 15), (2025-06-02, 16), (2025-06-02, 17), (2025-06-02, 18), (2025-06-02, 19), (2025-06-02, 20), (2025-06-02, 21), (2025-06-02, 22), (2025-06-02, 23), (2025-06-03, 0), (2025-06-03, 1), (2025-06-03, 2), (2025-06-03, 3), (2025-06-03, 4), (2025-06-03, 5), (2025-06-03, 6), (2025-06-03, 7), (2025-06-03, 8), (2025-06-03, 9), (2025-06-03, 10), (2025-06-03, 11), (2025-06-03, 12), (2025-06-03, 13), (2025-06-03, 14), (2025-06-03, 15), (2025-06-03, 16), (2025-06-03, 17), (2025-06-03, 18), (2025-06-03, 19), (2025-06-03, 20), (2025-06-03, 21), (2025-06-03, 22), (2025-06-03, 23), (2025-06-04, 0), (2025-06-04, 1), (2025-06-04, 2), (2025-06-04, 3), (2025-06-04, 4), (2025-06-04, 5), (2025-06-04, 6), (2025-06-04, 7), (2025-06-04, 8), (2025-06-04, 9), (2025-06-04, 10), (2025-06-04, 11), (2025-06-04, 12), (2025-06-04, 13), (2025-06-04, 14), (2025-06-04, 15), (2025-06-04, 16), (2025-06-04, 17), (2025-06-04, 18), (2025-06-04, 19), (2025-06-04, 20), (2025-06-04, 21), (2025-06-04, 22), (2025-06-04, 23), (2025-06-05, 0), (2025-06-05, 1), (2025-06-05, 2), (2025-06-05, 3), ...]\n",
      "\n",
      "[720 rows x 0 columns]\n"
     ]
    },
    {
     "name": "stderr",
     "output_type": "stream",
     "text": [
      "C:\\Users\\משפחת ספראי\\AppData\\Local\\Temp\\ipykernel_13868\\2795562754.py:12: FutureWarning: The default value of numeric_only in DataFrameGroupBy.sum is deprecated. In a future version, numeric_only will default to False. Either specify numeric_only or select only columns which should be valid for the function.\n",
      "  sum_result = df_filtered[['date', 'hour','value']].groupby(['date','hour']).sum()\n"
     ]
    }
   ],
   "source": [
    "df_filtered['timestamp']\n",
    "df_filtered['hour'] = df_filtered['timestamp'].dt.hour\n",
    "df_filtered['date'] = df_filtered['timestamp'].dt.date\n",
    "# print(df_filtered)\n",
    "# result_df = df_filtered.groupby(['date']).mean(df_filtered['value'])\n",
    "# df_filtered.index = to_datetime(df.index)\n",
    "# result_df = df_filtered.groupby(df_filtered['date']).sum('value')\n",
    "# result_df = df_filtered.groupby(['date','hour'])['value'].sum()\n",
    "# result_df = df_filtered.groupby(['date']).mean()\n",
    "# result_df = df_filtered.mean()\n",
    "# count_result = df_filtered[['date', 'hour','value']].groupby(['date','hour']).count()\n",
    "sum_result = df_filtered[['date', 'hour','value']].groupby(['date','hour']).sum()\n",
    "\n",
    "# result_df = df_filtered.groupby('date', 'hour').sum()\n",
    "\n",
    "print(sum_result)"
   ]
  }
 ],
 "metadata": {
  "kernelspec": {
   "display_name": "Python 3 (ipykernel)",
   "language": "python",
   "name": "python3"
  },
  "language_info": {
   "codemirror_mode": {
    "name": "ipython",
    "version": 3
   },
   "file_extension": ".py",
   "mimetype": "text/x-python",
   "name": "python",
   "nbconvert_exporter": "python",
   "pygments_lexer": "ipython3",
   "version": "3.11.3"
  }
 },
 "nbformat": 4,
 "nbformat_minor": 5
}
