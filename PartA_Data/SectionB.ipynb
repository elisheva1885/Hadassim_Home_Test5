{
 "cells": [
  {
   "cell_type": "code",
   "execution_count": 1,
   "id": "81d3388e",
   "metadata": {},
   "outputs": [
    {
     "data": {
      "text/html": [
       "<div>\n",
       "<style scoped>\n",
       "    .dataframe tbody tr th:only-of-type {\n",
       "        vertical-align: middle;\n",
       "    }\n",
       "\n",
       "    .dataframe tbody tr th {\n",
       "        vertical-align: top;\n",
       "    }\n",
       "\n",
       "    .dataframe thead th {\n",
       "        text-align: right;\n",
       "    }\n",
       "</style>\n",
       "<table border=\"1\" class=\"dataframe\">\n",
       "  <thead>\n",
       "    <tr style=\"text-align: right;\">\n",
       "      <th></th>\n",
       "      <th>timestamp</th>\n",
       "      <th>value</th>\n",
       "    </tr>\n",
       "  </thead>\n",
       "  <tbody>\n",
       "    <tr>\n",
       "      <th>0</th>\n",
       "      <td>2025-06-28 12:00:52</td>\n",
       "      <td>18.5</td>\n",
       "    </tr>\n",
       "    <tr>\n",
       "      <th>1</th>\n",
       "      <td>2025-06-01 04:17:23</td>\n",
       "      <td>46.3</td>\n",
       "    </tr>\n",
       "    <tr>\n",
       "      <th>2</th>\n",
       "      <td>2025-06-10 17:02:57</td>\n",
       "      <td>76</td>\n",
       "    </tr>\n",
       "    <tr>\n",
       "      <th>3</th>\n",
       "      <td>2025-06-23 05:23:22</td>\n",
       "      <td>56.4</td>\n",
       "    </tr>\n",
       "    <tr>\n",
       "      <th>4</th>\n",
       "      <td>2025-06-05 07:20:08</td>\n",
       "      <td>67.9</td>\n",
       "    </tr>\n",
       "    <tr>\n",
       "      <th>5</th>\n",
       "      <td>2025-06-26 22:27:02</td>\n",
       "      <td>87</td>\n",
       "    </tr>\n",
       "    <tr>\n",
       "      <th>6</th>\n",
       "      <td>2025-06-06 01:15:50</td>\n",
       "      <td>12.6</td>\n",
       "    </tr>\n",
       "    <tr>\n",
       "      <th>7</th>\n",
       "      <td>2025-06-07 05:18:46</td>\n",
       "      <td>51.3</td>\n",
       "    </tr>\n",
       "    <tr>\n",
       "      <th>8</th>\n",
       "      <td>2025-06-19 04:31:51</td>\n",
       "      <td>52.9</td>\n",
       "    </tr>\n",
       "    <tr>\n",
       "      <th>9</th>\n",
       "      <td>2025-06-13 02:58:59</td>\n",
       "      <td>44.3</td>\n",
       "    </tr>\n",
       "  </tbody>\n",
       "</table>\n",
       "</div>"
      ],
      "text/plain": [
       "            timestamp value\n",
       "0 2025-06-28 12:00:52  18.5\n",
       "1 2025-06-01 04:17:23  46.3\n",
       "2 2025-06-10 17:02:57    76\n",
       "3 2025-06-23 05:23:22  56.4\n",
       "4 2025-06-05 07:20:08  67.9\n",
       "5 2025-06-26 22:27:02    87\n",
       "6 2025-06-06 01:15:50  12.6\n",
       "7 2025-06-07 05:18:46  51.3\n",
       "8 2025-06-19 04:31:51  52.9\n",
       "9 2025-06-13 02:58:59  44.3"
      ]
     },
     "execution_count": 1,
     "metadata": {},
     "output_type": "execute_result"
    }
   ],
   "source": [
    "import pandas as pd\n",
    "\n",
    "df = pd.read_excel(\"./files/time_series.xlsx\")\n",
    "df.head(10)\n",
    "\n"
   ]
  },
  {
   "cell_type": "code",
   "execution_count": 2,
   "id": "d973643e",
   "metadata": {},
   "outputs": [
    {
     "name": "stdout",
     "output_type": "stream",
     "text": [
      "            timestamp value\n",
      "0 2025-06-28 12:00:52  18.5\n",
      "1 2025-06-01 04:17:23  46.3\n",
      "2 2025-06-10 17:02:57    76\n",
      "3 2025-06-23 05:23:22  56.4\n",
      "4 2025-06-05 07:20:08  67.9\n",
      "(1000000, 2)\n"
     ]
    }
   ],
   "source": [
    "# for i in range(int(df.shape[0])): \n",
    "#     if(df[\"timestamp\"][i:i+1].dtype!='datetime64[ns]'):\n",
    "#         df[\"valid\"] = False\n",
    "#         print(i)\n",
    "#     else:\n",
    "#         df[\"valid\"] = True\n",
    "    \n",
    "print(df.head())\n",
    "# datetime64[ns] אחרי בדיקה שסוג העמודה הוא \n",
    "df_datesOnFormat = df[df['timestamp'].isna() == False]\n",
    "print(df_datesOnFormat.shape)"
   ]
  },
  {
   "cell_type": "code",
   "execution_count": 3,
   "id": "b412af23",
   "metadata": {},
   "outputs": [
    {
     "name": "stdout",
     "output_type": "stream",
     "text": [
      "True\n"
     ]
    },
    {
     "data": {
      "text/plain": [
       "2025-06-26 03:00:40    6\n",
       "2025-06-28 10:00:19    6\n",
       "2025-06-27 13:47:46    6\n",
       "2025-06-02 20:42:15    6\n",
       "2025-06-24 08:34:45    6\n",
       "                      ..\n",
       "2025-06-27 19:46:44    1\n",
       "2025-06-08 20:32:54    1\n",
       "2025-06-03 13:21:01    1\n",
       "2025-06-25 17:18:58    1\n",
       "2025-06-10 08:36:18    1\n",
       "Name: timestamp, Length: 829625, dtype: int64"
      ]
     },
     "execution_count": 3,
     "metadata": {},
     "output_type": "execute_result"
    }
   ],
   "source": [
    "# df_datesOnFormat = df[df['valid']== True]\n",
    "# print(df_datesOnFormat)\n",
    "boolean = df_datesOnFormat.duplicated(subset=['timestamp']).any()\n",
    "print(boolean)\n",
    "df_datesOnFormat[\"timestamp\"].value_counts()"
   ]
  },
  {
   "cell_type": "code",
   "execution_count": 5,
   "id": "4a145458",
   "metadata": {},
   "outputs": [
    {
     "name": "stdout",
     "output_type": "stream",
     "text": [
      "                 timestamp  value\n",
      "1      2025-06-01 04:17:23   46.3\n",
      "2      2025-06-10 17:02:57   76.0\n",
      "3      2025-06-23 05:23:22   56.4\n",
      "5      2025-06-26 22:27:02   87.0\n",
      "7      2025-06-07 05:18:46   51.3\n",
      "...                    ...    ...\n",
      "999994 2025-06-19 09:33:44   77.1\n",
      "999995 2025-06-21 18:41:04   44.8\n",
      "999997 2025-06-24 18:51:12    3.9\n",
      "999998 2025-06-10 08:36:18   77.0\n",
      "999999 2025-06-05 22:30:46   43.3\n",
      "\n",
      "[706045 rows x 2 columns]\n"
     ]
    },
    {
     "name": "stderr",
     "output_type": "stream",
     "text": [
      "C:\\Users\\משפחת ספראי\\AppData\\Local\\Temp\\ipykernel_25468\\2787305380.py:5: SettingWithCopyWarning: \n",
      "A value is trying to be set on a copy of a slice from a DataFrame.\n",
      "Try using .loc[row_indexer,col_indexer] = value instead\n",
      "\n",
      "See the caveats in the documentation: https://pandas.pydata.org/pandas-docs/stable/user_guide/indexing.html#returning-a-view-versus-a-copy\n",
      "  df_filtered_duplicates['value'] = pd.to_numeric(df_filtered_duplicates['value'], errors='coerce')\n"
     ]
    }
   ],
   "source": [
    "if(boolean):\n",
    "    df_filtered_duplicates = df_datesOnFormat.drop_duplicates(subset=['timestamp'], keep='last')\n",
    "df_filtered_duplicates[\"timestamp\"].value_counts()\n",
    "\n",
    "df_filtered_duplicates['value'] = pd.to_numeric(df_filtered_duplicates['value'], errors='coerce')\n",
    "df_filtered = df_filtered_duplicates.dropna(subset=['value'])\n",
    "print(df_filtered)\n"
   ]
  },
  {
   "cell_type": "code",
   "execution_count": 6,
   "id": "ed43bbf9",
   "metadata": {
    "scrolled": true
   },
   "outputs": [
    {
     "name": "stderr",
     "output_type": "stream",
     "text": [
      "C:\\Users\\משפחת ספראי\\AppData\\Local\\Temp\\ipykernel_25468\\3460801651.py:1: SettingWithCopyWarning: \n",
      "A value is trying to be set on a copy of a slice from a DataFrame.\n",
      "Try using .loc[row_indexer,col_indexer] = value instead\n",
      "\n",
      "See the caveats in the documentation: https://pandas.pydata.org/pandas-docs/stable/user_guide/indexing.html#returning-a-view-versus-a-copy\n",
      "  df_filtered['hour'] = df_filtered['timestamp'].dt.hour\n"
     ]
    },
    {
     "name": "stdout",
     "output_type": "stream",
     "text": [
      "                   value\n",
      "date       hour         \n",
      "2025-06-01 0     52407.0\n",
      "           1     51202.6\n",
      "           2     49367.3\n",
      "           3     52168.9\n",
      "           4     47693.8\n",
      "...                  ...\n",
      "2025-06-30 19    46656.9\n",
      "           20    49080.1\n",
      "           21    50273.3\n",
      "           22    49755.2\n",
      "           23    50760.5\n",
      "\n",
      "[720 rows x 1 columns]\n"
     ]
    },
    {
     "name": "stderr",
     "output_type": "stream",
     "text": [
      "C:\\Users\\משפחת ספראי\\AppData\\Local\\Temp\\ipykernel_25468\\3460801651.py:2: SettingWithCopyWarning: \n",
      "A value is trying to be set on a copy of a slice from a DataFrame.\n",
      "Try using .loc[row_indexer,col_indexer] = value instead\n",
      "\n",
      "See the caveats in the documentation: https://pandas.pydata.org/pandas-docs/stable/user_guide/indexing.html#returning-a-view-versus-a-copy\n",
      "  df_filtered['date'] = df_filtered['timestamp'].dt.date\n"
     ]
    }
   ],
   "source": [
    "df_filtered['hour'] = df_filtered['timestamp'].dt.hour\n",
    "df_filtered['date'] = df_filtered['timestamp'].dt.date\n",
    "sum_result = df_filtered[['date', 'hour','value']].groupby(['date','hour']).sum()\n",
    "print(sum_result)"
   ]
  },
  {
   "cell_type": "code",
   "execution_count": 58,
   "id": "f9114b65",
   "metadata": {},
   "outputs": [],
   "source": [
    "def split_df_to_excel_files_byRange(df, rows_range, path ):\n",
    "    index = 0;\n",
    "    for j in range(rows_range.shape[0]):\n",
    "        df_to_excel = df[index:index+rows_range[j]]\n",
    "        print(\"from\",index , \"to\",index+rows_range[j] )\n",
    "        index = index + rows_range[j]\n",
    "        \n",
    "#         print(\"after\",index,rows_range[j])\n",
    " \n",
    "                \n",
    "    #         print(\"i\",i)\n",
    "        #     print(df[i:])\n",
    "        #     print(df_to_excel)\n",
    "#             df_to_excel.to_excel(f\"./files/logs/log{i}.xlsx\", sheet_name=\"data\", index=False, header=False)\n",
    "        df_to_excel.to_excel(f\"{path}{j+1}.xlsx\", sheet_name=\"data\", index=False)\n",
    "\n"
   ]
  },
  {
   "cell_type": "code",
   "execution_count": 59,
   "id": "eee427d4",
   "metadata": {},
   "outputs": [
    {
     "name": "stdout",
     "output_type": "stream",
     "text": [
      "             hour  value\n",
      "date                    \n",
      "2025-06-01  23861  23861\n",
      "2025-06-02  23436  23436\n",
      "2025-06-03  23649  23649\n",
      "2025-06-04  23535  23535\n",
      "2025-06-05  23598  23598\n",
      "2025-06-06  23440  23440\n",
      "2025-06-07  23507  23507\n",
      "2025-06-08  23561  23561\n",
      "2025-06-09  23618  23618\n",
      "2025-06-10  23424  23424\n",
      "2025-06-11  23421  23421\n",
      "2025-06-12  23707  23707\n",
      "2025-06-13  23596  23596\n",
      "2025-06-14  23383  23383\n",
      "2025-06-15  23416  23416\n",
      "2025-06-16  23553  23553\n",
      "2025-06-17  23534  23534\n",
      "2025-06-18  23418  23418\n",
      "2025-06-19  23509  23509\n",
      "2025-06-20  23446  23446\n",
      "2025-06-21  23567  23567\n",
      "2025-06-22  23567  23567\n",
      "2025-06-23  23479  23479\n",
      "2025-06-24  23560  23560\n",
      "2025-06-25  23589  23589\n",
      "2025-06-26  23418  23418\n",
      "2025-06-27  23380  23380\n",
      "2025-06-28  23718  23718\n",
      "2025-06-29  23648  23648\n",
      "2025-06-30  23507  23507\n",
      "from 0 to 23861\n"
     ]
    },
    {
     "name": "stderr",
     "output_type": "stream",
     "text": [
      "Exception ignored in: <function ZipFile.__del__ at 0x0000015E25B61800>\n",
      "Traceback (most recent call last):\n",
      "  File \"C:\\Users\\Public\\Documents\\py\\Lib\\zipfile.py\", line 1872, in __del__\n",
      "    self.close()\n",
      "  File \"C:\\Users\\Public\\Documents\\py\\Lib\\zipfile.py\", line 1889, in close\n",
      "    self.fp.seek(self.start_dir)\n",
      "ValueError: seek of closed file\n"
     ]
    },
    {
     "name": "stdout",
     "output_type": "stream",
     "text": [
      "from 23861 to 47297\n",
      "from 47297 to 70946\n",
      "from 70946 to 94481\n",
      "from 94481 to 118079\n",
      "from 118079 to 141519\n",
      "from 141519 to 165026\n",
      "from 165026 to 188587\n",
      "from 188587 to 212205\n",
      "from 212205 to 235629\n",
      "from 235629 to 259050\n",
      "from 259050 to 282757\n",
      "from 282757 to 306353\n",
      "from 306353 to 329736\n",
      "from 329736 to 353152\n",
      "from 353152 to 376705\n",
      "from 376705 to 400239\n",
      "from 400239 to 423657\n",
      "from 423657 to 447166\n",
      "from 447166 to 470612\n",
      "from 470612 to 494179\n",
      "from 494179 to 517746\n",
      "from 517746 to 541225\n",
      "from 541225 to 564785\n",
      "from 564785 to 588374\n",
      "from 588374 to 611792\n",
      "from 611792 to 635172\n",
      "from 635172 to 658890\n",
      "from 658890 to 682538\n",
      "from 682538 to 706045\n"
     ]
    },
    {
     "data": {
      "text/plain": [
       "23860"
      ]
     },
     "execution_count": 59,
     "metadata": {},
     "output_type": "execute_result"
    }
   ],
   "source": [
    "sum_result1 = df_filtered[['date', 'hour','value']].groupby(['date']).count()\n",
    "print(sum_result1)\n",
    "df_sorted = df_filtered.sort_values('date')    \n",
    "# df_sorted.to_excel(f\"files/file.xlsx\", sheet_name=\"data\", index=False)\n",
    "\n",
    "\n",
    "split_df_to_excel_files_byRange(df_sorted, sum_result1['hour'] , \"./files/time_serieses/time_series\" )\n",
    "23860"
   ]
  }
 ],
 "metadata": {
  "kernelspec": {
   "display_name": "Python 3 (ipykernel)",
   "language": "python",
   "name": "python3"
  },
  "language_info": {
   "codemirror_mode": {
    "name": "ipython",
    "version": 3
   },
   "file_extension": ".py",
   "mimetype": "text/x-python",
   "name": "python",
   "nbconvert_exporter": "python",
   "pygments_lexer": "ipython3",
   "version": "3.11.3"
  }
 },
 "nbformat": 4,
 "nbformat_minor": 5
}
