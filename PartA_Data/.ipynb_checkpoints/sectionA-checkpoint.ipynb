{
 "cells": [
  {
   "cell_type": "code",
   "execution_count": 69,
   "id": "9b558f1b",
   "metadata": {
    "scrolled": true
   },
   "outputs": [],
   "source": [
    "# SectionA\n",
    "# for running time:\n",
    "#     m - number of rows in the Excel file\n",
    "#     N - number of most common error codes you want to return\n",
    "#     k - number of small file - the big file parts\n",
    "#     t - number of uniqe errors - best - o(1)  / worst - o(m)\n",
    "\n"
   ]
  },
  {
   "cell_type": "code",
   "execution_count": null,
   "id": "1d9b8400",
   "metadata": {},
   "outputs": [],
   "source": [
    "import pandas as pd\n",
    "def from_excel_to_csv(filePath):\n",
    "    df = pd.read_excel(f\"{filePath}.xlsx\",header=None)\n",
    "    df.to_csv(f\"{filePath}.csv\", index=False)\n",
    "    df = pd.read_csv(f\"{filePath}.csv\") \n",
    "    return df"
   ]
  },
  {
   "cell_type": "code",
   "execution_count": 65,
   "id": "85f11510",
   "metadata": {},
   "outputs": [],
   "source": [
    "#this function read the base excel file and transform it to scv fromat and reading again\n",
    "#running time:  O(m)"
   ]
  },
  {
   "cell_type": "code",
   "execution_count": 40,
   "id": "095a68cc",
   "metadata": {
    "scrolled": true
   },
   "outputs": [],
   "source": [
    "def split_df_to_csv_files_byRange(df, range_value, path ): \n",
    "    for i in range(int(df.shape[0]/range_value)):\n",
    "        df_to_csv = df[i*range_value:(i+1)*range_value]\n",
    "        df_to_csv.to_csv(f\"{path}{i}.csv\",  index=False, header=False)\n"
   ]
  },
  {
   "cell_type": "code",
   "execution_count": 67,
   "id": "ee621c42",
   "metadata": {},
   "outputs": [],
   "source": [
    "#this function split the big file to a few small csv files\n",
    "#running time:  O(m)"
   ]
  },
  {
   "cell_type": "code",
   "execution_count": 41,
   "id": "a29b8fdc",
   "metadata": {},
   "outputs": [],
   "source": [
    "from concurrent.futures import ThreadPoolExecutor\n",
    "from collections import Counter\n",
    "\n",
    "def count_errorFrequencies_from_files( readingPath , index ):\n",
    "    df_form_log = pd.read_csv(f\"{readingPath}{index}.csv\",header=None)\n",
    "    df_form_log[['Timestamp','Error']] = df_form_log[0].str.split(', ', expand=True)\n",
    "    return df_form_log['Error'].value_counts().to_dict()\n"
   ]
  },
  {
   "cell_type": "code",
   "execution_count": 70,
   "id": "2c2da288",
   "metadata": {},
   "outputs": [],
   "source": [
    "#this function reading one of the files and return it's error code - key:value\n",
    "#running time:  O(m/k) * k - for all the files =  O(m)"
   ]
  },
  {
   "cell_type": "code",
   "execution_count": 42,
   "id": "fff2c9a5",
   "metadata": {},
   "outputs": [],
   "source": [
    "def reading_from_files_in_parallel(filePath):\n",
    "    countErrorsFrequencies = Counter()\n",
    "    with ThreadPoolExecutor() as executor:\n",
    "        futures = [executor.submit(count_errorFrequencies_from_files, filePath, index ) for index in range(10)]\n",
    "        for future in futures:\n",
    "            result = future.result()\n",
    "            countErrorsFrequencies.update(result)          \n",
    "    sorted_countErrorsFrequencies = sorted(countErrorsFrequencies.items(), key=lambda x: x[1], reverse=True)\n",
    "    return sorted_countErrorsFrequencies"
   ]
  },
  {
   "cell_type": "code",
   "execution_count": 71,
   "id": "bb826d5f",
   "metadata": {},
   "outputs": [],
   "source": [
    "#this function call the prev function in parallel and calculates the sums of the results\n",
    "#and sorted them - tlogt\n",
    "#running time -  O(m) + O(tlogt) = O(m + tlogt)"
   ]
  },
  {
   "cell_type": "code",
   "execution_count": 51,
   "id": "89fe2376",
   "metadata": {},
   "outputs": [],
   "source": [
    "def the_N_Common_error_codes(N, dict):\n",
    "    n_errors = {}\n",
    "    for i in range(N):\n",
    "        key, value = dict[i]\n",
    "        n_errors[key] = value\n",
    "    return n_errors\n"
   ]
  },
  {
   "cell_type": "code",
   "execution_count": 72,
   "id": "c33c6a40",
   "metadata": {},
   "outputs": [],
   "source": [
    "#this function returns the first N value in the dictionary\n",
    "#running time -  O(N)"
   ]
  },
  {
   "cell_type": "code",
   "execution_count": 52,
   "id": "c8f37ed9",
   "metadata": {},
   "outputs": [],
   "source": [
    "def common_N_error_codes_from_file( readingPath,writingPath , N):\n",
    "    df = from_excel_to_csv(readingPath)\n",
    "    split_df_to_csv_files_byRange(df ,100000,writingPath)\n",
    "    sorted_countErrorsFrequencies = reading_from_files_in_parallel(writingPath)\n",
    "    result = the_N_Common_error_codes(N, sorted_countErrorsFrequencies)\n",
    "    return result\n",
    "    \n",
    "    "
   ]
  },
  {
   "cell_type": "code",
   "execution_count": 1,
   "id": "73786ee6",
   "metadata": {},
   "outputs": [],
   "source": [
    "#calling to the functions by order\n",
    "#final running time:\n",
    "#runing time best - O(m+N)\n",
    "#runing time worst - O(m+N+mlogm)\n",
    "#(depends on the amount of unique errors)\n",
    "#Place complexity - O(m)  - saving the number of rows twice"
   ]
  },
  {
   "cell_type": "code",
   "execution_count": 53,
   "id": "ac46baf7",
   "metadata": {},
   "outputs": [
    {
     "name": "stdout",
     "output_type": "stream",
     "text": [
      "{'Error: WARN_101': 200098, 'Error: ERR_404': 200094, 'Error: ERR_400': 200069}\n"
     ]
    }
   ],
   "source": [
    "res = common_N_error_codes_from_file(\"./files/logs.txt\", \"./files/logs/log\" ,3 )\n",
    "print(res)"
   ]
  }
 ],
 "metadata": {
  "kernelspec": {
   "display_name": "Python 3 (ipykernel)",
   "language": "python",
   "name": "python3"
  },
  "language_info": {
   "codemirror_mode": {
    "name": "ipython",
    "version": 3
   },
   "file_extension": ".py",
   "mimetype": "text/x-python",
   "name": "python",
   "nbconvert_exporter": "python",
   "pygments_lexer": "ipython3",
   "version": "3.11.3"
  }
 },
 "nbformat": 4,
 "nbformat_minor": 5
}
