{
 "cells": [
  {
   "cell_type": "code",
   "execution_count": 3,
   "id": "9b558f1b",
   "metadata": {
    "scrolled": true
   },
   "outputs": [
    {
     "data": {
      "text/html": [
       "<div>\n",
       "<style scoped>\n",
       "    .dataframe tbody tr th:only-of-type {\n",
       "        vertical-align: middle;\n",
       "    }\n",
       "\n",
       "    .dataframe tbody tr th {\n",
       "        vertical-align: top;\n",
       "    }\n",
       "\n",
       "    .dataframe thead th {\n",
       "        text-align: right;\n",
       "    }\n",
       "</style>\n",
       "<table border=\"1\" class=\"dataframe\">\n",
       "  <thead>\n",
       "    <tr style=\"text-align: right;\">\n",
       "      <th></th>\n",
       "      <th>0</th>\n",
       "    </tr>\n",
       "  </thead>\n",
       "  <tbody>\n",
       "    <tr>\n",
       "      <th>0</th>\n",
       "      <td>Timestamp: 2023-10-27 10:00:00, Error: ERR_400</td>\n",
       "    </tr>\n",
       "    <tr>\n",
       "      <th>1</th>\n",
       "      <td>Timestamp: 2023-10-27 10:00:00, Error: ERR_500</td>\n",
       "    </tr>\n",
       "    <tr>\n",
       "      <th>2</th>\n",
       "      <td>Timestamp: 2023-10-27 10:00:00, Error: INFO_200</td>\n",
       "    </tr>\n",
       "    <tr>\n",
       "      <th>3</th>\n",
       "      <td>Timestamp: 2023-10-27 10:00:00, Error: INFO_200</td>\n",
       "    </tr>\n",
       "    <tr>\n",
       "      <th>4</th>\n",
       "      <td>Timestamp: 2023-10-27 10:00:00, Error: WARN_101</td>\n",
       "    </tr>\n",
       "    <tr>\n",
       "      <th>5</th>\n",
       "      <td>Timestamp: 2023-10-27 10:00:00, Error: INFO_200</td>\n",
       "    </tr>\n",
       "    <tr>\n",
       "      <th>6</th>\n",
       "      <td>Timestamp: 2023-10-27 10:00:00, Error: ERR_500</td>\n",
       "    </tr>\n",
       "    <tr>\n",
       "      <th>7</th>\n",
       "      <td>Timestamp: 2023-10-27 10:00:00, Error: INFO_200</td>\n",
       "    </tr>\n",
       "    <tr>\n",
       "      <th>8</th>\n",
       "      <td>Timestamp: 2023-10-27 10:00:00, Error: INFO_200</td>\n",
       "    </tr>\n",
       "    <tr>\n",
       "      <th>9</th>\n",
       "      <td>Timestamp: 2023-10-27 10:00:00, Error: WARN_101</td>\n",
       "    </tr>\n",
       "  </tbody>\n",
       "</table>\n",
       "</div>"
      ],
      "text/plain": [
       "                                                 0\n",
       "0   Timestamp: 2023-10-27 10:00:00, Error: ERR_400\n",
       "1   Timestamp: 2023-10-27 10:00:00, Error: ERR_500\n",
       "2  Timestamp: 2023-10-27 10:00:00, Error: INFO_200\n",
       "3  Timestamp: 2023-10-27 10:00:00, Error: INFO_200\n",
       "4  Timestamp: 2023-10-27 10:00:00, Error: WARN_101\n",
       "5  Timestamp: 2023-10-27 10:00:00, Error: INFO_200\n",
       "6   Timestamp: 2023-10-27 10:00:00, Error: ERR_500\n",
       "7  Timestamp: 2023-10-27 10:00:00, Error: INFO_200\n",
       "8  Timestamp: 2023-10-27 10:00:00, Error: INFO_200\n",
       "9  Timestamp: 2023-10-27 10:00:00, Error: WARN_101"
      ]
     },
     "execution_count": 3,
     "metadata": {},
     "output_type": "execute_result"
    }
   ],
   "source": [
    "import pandas as pd\n",
    "\n",
    "df = pd.read_excel(\"./files/logs.txt.xlsx\",header=None)\n",
    "df.head(10)\n"
   ]
  },
  {
   "cell_type": "code",
   "execution_count": 2,
   "id": "095a68cc",
   "metadata": {
    "scrolled": true
   },
   "outputs": [],
   "source": [
    "def split_df_to_excel_files_byRange(df, range_value, path ): \n",
    "#     range_value = 100000\n",
    "    for i in range(int(df.shape[0]/range_value)):\n",
    "        df_to_excel = df[i*range_value:(i+1)*range_value]\n",
    "#         print(\"i\",i)\n",
    "    #     print(df[i:])\n",
    "    #     print(df_to_excel)\n",
    "#         df_to_excel.to_excel(f\"./files/logs/log{i}.xlsx\", sheet_name=\"data\", index=False, header=False)\n",
    "        df_to_excel.to_excel(f\"{path}{i}.xlsx\", sheet_name=\"data\", index=False, header=False)\n"
   ]
  },
  {
   "cell_type": "code",
   "execution_count": 4,
   "id": "ee621c42",
   "metadata": {},
   "outputs": [
    {
     "name": "stdout",
     "output_type": "stream",
     "text": [
      "i 0\n",
      "i 1\n",
      "i 2\n",
      "i 3\n",
      "i 4\n",
      "i 5\n",
      "i 6\n",
      "i 7\n",
      "i 8\n",
      "i 9\n"
     ]
    }
   ],
   "source": [
    "split_df_to_excel_files_byRange(df, 100000 , \"./files/logs/log\" )"
   ]
  },
  {
   "cell_type": "code",
   "execution_count": 10,
   "id": "a29b8fdc",
   "metadata": {},
   "outputs": [],
   "source": [
    "def count_errorFrequencies_from_files(filesNum , readingPath ):\n",
    "    countErrorsFrequencies  = {}\n",
    "    for i in range(filesNum):\n",
    "        df_form_log = pd.read_excel(f\"{readingPath}{i}.xlsx\",header=None)\n",
    "        df_form_log[['Timestamp','Error']] = df_form_log[0].str.split(', ', expand=True)\n",
    "        countErrorValue = df_form_log['Error'].value_counts()\n",
    "        countErrorValue = countErrorValue.to_dict()\n",
    "        for j in countErrorValue:\n",
    "            if(i==0):\n",
    "                countErrorsFrequencies[j] = countErrorValue[j]\n",
    "            else:\n",
    "                countErrorsFrequencies[j] += countErrorValue[j]\n",
    "    return countErrorsFrequencies\n",
    "\n",
    "\n",
    "        \n",
    "\n",
    "    \n",
    "\n",
    "\n"
   ]
  },
  {
   "cell_type": "code",
   "execution_count": 13,
   "id": "89fe2376",
   "metadata": {},
   "outputs": [
    {
     "name": "stdout",
     "output_type": "stream",
     "text": [
      "{'Error: ERR_404': 200094, 'Error: WARN_101': 200098, 'Error: ERR_400': 200069, 'Error: INFO_200': 199931, 'Error: ERR_500': 199808}\n"
     ]
    }
   ],
   "source": [
    "countErrorsFrequencies = count_errorFrequencies_from_files(10 ,\"./files/logs/log\" )"
   ]
  },
  {
   "cell_type": "code",
   "execution_count": 16,
   "id": "c33c6a40",
   "metadata": {},
   "outputs": [
    {
     "ename": "AttributeError",
     "evalue": "'NoneType' object has no attribute 'items'",
     "output_type": "error",
     "traceback": [
      "\u001b[1;31m---------------------------------------------------------------------------\u001b[0m",
      "\u001b[1;31mAttributeError\u001b[0m                            Traceback (most recent call last)",
      "Cell \u001b[1;32mIn[16], line 2\u001b[0m\n\u001b[0;32m      1\u001b[0m \u001b[38;5;66;03m# dict(sorted(countErrorsFrequencies.items()))\u001b[39;00m\n\u001b[1;32m----> 2\u001b[0m sorted_countErrorsFrequencies \u001b[38;5;241m=\u001b[39m \u001b[38;5;28mdict\u001b[39m(\u001b[38;5;28msorted\u001b[39m(countErrorsFrequencies\u001b[38;5;241m.\u001b[39mitems(), key\u001b[38;5;241m=\u001b[39m\u001b[38;5;28;01mlambda\u001b[39;00m item: item[\u001b[38;5;241m1\u001b[39m]))\n\u001b[0;32m      4\u001b[0m \u001b[38;5;66;03m# dict(sorted(countErrorsFrequencies.items(), key=lambda item: item[1]))\u001b[39;00m\n\u001b[0;32m      5\u001b[0m \u001b[38;5;28mprint\u001b[39m(sorted_countErrorsFrequencies)\n",
      "\u001b[1;31mAttributeError\u001b[0m: 'NoneType' object has no attribute 'items'"
     ]
    }
   ],
   "source": [
    "# dict(sorted(countErrorsFrequencies.items()))\n",
    "sorted_countErrorsFrequencies = dict(sorted(countErrorsFrequencies.items(), key=lambda item: item[1]))\n",
    "\n",
    "# dict(sorted(countErrorsFrequencies.items(), key=lambda item: item[1]))\n",
    "print(sorted_countErrorsFrequencies)\n"
   ]
  },
  {
   "cell_type": "code",
   "execution_count": null,
   "id": "c8f37ed9",
   "metadata": {},
   "outputs": [],
   "source": []
  }
 ],
 "metadata": {
  "kernelspec": {
   "display_name": "Python 3 (ipykernel)",
   "language": "python",
   "name": "python3"
  },
  "language_info": {
   "codemirror_mode": {
    "name": "ipython",
    "version": 3
   },
   "file_extension": ".py",
   "mimetype": "text/x-python",
   "name": "python",
   "nbconvert_exporter": "python",
   "pygments_lexer": "ipython3",
   "version": "3.11.3"
  }
 },
 "nbformat": 4,
 "nbformat_minor": 5
}
