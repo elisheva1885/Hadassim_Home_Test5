{
 "cells": [
  {
   "cell_type": "code",
   "execution_count": 11,
   "id": "f43357af",
   "metadata": {
    "scrolled": true
   },
   "outputs": [
    {
     "data": {
      "text/html": [
       "<div>\n",
       "<style scoped>\n",
       "    .dataframe tbody tr th:only-of-type {\n",
       "        vertical-align: middle;\n",
       "    }\n",
       "\n",
       "    .dataframe tbody tr th {\n",
       "        vertical-align: top;\n",
       "    }\n",
       "\n",
       "    .dataframe thead th {\n",
       "        text-align: right;\n",
       "    }\n",
       "</style>\n",
       "<table border=\"1\" class=\"dataframe\">\n",
       "  <thead>\n",
       "    <tr style=\"text-align: right;\">\n",
       "      <th></th>\n",
       "      <th>0</th>\n",
       "    </tr>\n",
       "  </thead>\n",
       "  <tbody>\n",
       "    <tr>\n",
       "      <th>0</th>\n",
       "      <td>Timestamp: 2023-10-27 10:00:00, Error: ERR_400</td>\n",
       "    </tr>\n",
       "    <tr>\n",
       "      <th>1</th>\n",
       "      <td>Timestamp: 2023-10-27 10:00:00, Error: ERR_500</td>\n",
       "    </tr>\n",
       "    <tr>\n",
       "      <th>2</th>\n",
       "      <td>Timestamp: 2023-10-27 10:00:00, Error: INFO_200</td>\n",
       "    </tr>\n",
       "    <tr>\n",
       "      <th>3</th>\n",
       "      <td>Timestamp: 2023-10-27 10:00:00, Error: INFO_200</td>\n",
       "    </tr>\n",
       "    <tr>\n",
       "      <th>4</th>\n",
       "      <td>Timestamp: 2023-10-27 10:00:00, Error: WARN_101</td>\n",
       "    </tr>\n",
       "    <tr>\n",
       "      <th>5</th>\n",
       "      <td>Timestamp: 2023-10-27 10:00:00, Error: INFO_200</td>\n",
       "    </tr>\n",
       "    <tr>\n",
       "      <th>6</th>\n",
       "      <td>Timestamp: 2023-10-27 10:00:00, Error: ERR_500</td>\n",
       "    </tr>\n",
       "    <tr>\n",
       "      <th>7</th>\n",
       "      <td>Timestamp: 2023-10-27 10:00:00, Error: INFO_200</td>\n",
       "    </tr>\n",
       "    <tr>\n",
       "      <th>8</th>\n",
       "      <td>Timestamp: 2023-10-27 10:00:00, Error: INFO_200</td>\n",
       "    </tr>\n",
       "    <tr>\n",
       "      <th>9</th>\n",
       "      <td>Timestamp: 2023-10-27 10:00:00, Error: WARN_101</td>\n",
       "    </tr>\n",
       "  </tbody>\n",
       "</table>\n",
       "</div>"
      ],
      "text/plain": [
       "                                                 0\n",
       "0   Timestamp: 2023-10-27 10:00:00, Error: ERR_400\n",
       "1   Timestamp: 2023-10-27 10:00:00, Error: ERR_500\n",
       "2  Timestamp: 2023-10-27 10:00:00, Error: INFO_200\n",
       "3  Timestamp: 2023-10-27 10:00:00, Error: INFO_200\n",
       "4  Timestamp: 2023-10-27 10:00:00, Error: WARN_101\n",
       "5  Timestamp: 2023-10-27 10:00:00, Error: INFO_200\n",
       "6   Timestamp: 2023-10-27 10:00:00, Error: ERR_500\n",
       "7  Timestamp: 2023-10-27 10:00:00, Error: INFO_200\n",
       "8  Timestamp: 2023-10-27 10:00:00, Error: INFO_200\n",
       "9  Timestamp: 2023-10-27 10:00:00, Error: WARN_101"
      ]
     },
     "execution_count": 11,
     "metadata": {},
     "output_type": "execute_result"
    }
   ],
   "source": [
    "import pandas as pd\n",
    "\n",
    "df = pd.read_excel(\"./files/logs.txt.xlsx\",header=None)\n",
    "df.head(10)\n",
    "\n",
    "\n",
    "# output_dir = Path(\"./files\").parent / \"output\"\n",
    "# output_dir.mkdir(parents=True, exist_ok=True)\n",
    "\n",
    "# Define Excel file path\n",
    "# excel_file = Path(\"./files\").parent / \"Financial_Sample.xlsx\"\n",
    "\n",
    "# df = pd.read_excel(excel_file)\n",
    "# column_name = \"0\"\n",
    "# unique_values = df[column_name].unique()\n",
    "\n",
    "# for unique_value in unique_values:\n",
    "#     df_output = df[df[column_name].str.fullmatch(unique_value)]\n",
    "#     output_path = output_dir / f\"{unique_value}.xlsx\"\n",
    "#     df_output.to_excel(output_path, sheet_name=unique_value[:31], index=False)\n",
    "\n",
    "\n",
    "    \n",
    "    \n",
    "# df.to_excel(\"./data/healthexp.xlsx\", sheet_name=\"data\", index=False)"
   ]
  },
  {
   "cell_type": "code",
   "execution_count": null,
   "id": "078961eb",
   "metadata": {
    "scrolled": true
   },
   "outputs": [
    {
     "name": "stdout",
     "output_type": "stream",
     "text": [
      "i 0\n",
      "i 1\n",
      "i 2\n",
      "i 3\n",
      "i 4\n",
      "i 5\n",
      "i 6\n",
      "i 7\n",
      "i 8\n"
     ]
    }
   ],
   "source": [
    "\n",
    "range_value = 100000\n",
    "for i in range(int(df.shape[0]/range_value)):\n",
    "    df_to_excel = df[i*range_value:(i+1)*range_value]\n",
    "    print(\"i\",i)\n",
    "#     print(df_to_excel)\n",
    "    df_to_excel.to_excel(f\"./files/log{i}.xlsx\", sheet_name=\"data\", index=False)\n"
   ]
  }
 ],
 "metadata": {
  "kernelspec": {
   "display_name": "Python 3 (ipykernel)",
   "language": "python",
   "name": "python3"
  },
  "language_info": {
   "codemirror_mode": {
    "name": "ipython",
    "version": 3
   },
   "file_extension": ".py",
   "mimetype": "text/x-python",
   "name": "python",
   "nbconvert_exporter": "python",
   "pygments_lexer": "ipython3",
   "version": "3.11.3"
  }
 },
 "nbformat": 4,
 "nbformat_minor": 5
}
